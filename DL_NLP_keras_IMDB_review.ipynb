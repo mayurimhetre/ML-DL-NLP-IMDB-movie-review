{
  "nbformat": 4,
  "nbformat_minor": 0,
  "metadata": {
    "colab": {
      "name": "DL-NLP-keras-IMDB-review.ipynb",
      "provenance": [],
      "collapsed_sections": []
    },
    "kernelspec": {
      "name": "python3",
      "display_name": "Python 3"
    },
    "language_info": {
      "name": "python"
    },
    "accelerator": "GPU"
  },
  "cells": [
    {
      "cell_type": "code",
      "metadata": {
        "colab": {
          "base_uri": "https://localhost:8080/"
        },
        "id": "NxiDMl3ZNVEt",
        "outputId": "c0b3772e-41ef-40c0-cf8b-82baf4b940ca"
      },
      "source": [
        "from google.colab import drive\n",
        "drive.mount('/content/drive')"
      ],
      "execution_count": 1,
      "outputs": [
        {
          "output_type": "stream",
          "text": [
            "Mounted at /content/drive\n"
          ],
          "name": "stdout"
        }
      ]
    },
    {
      "cell_type": "code",
      "metadata": {
        "id": "T-e1invlNi2y"
      },
      "source": [
        "import pandas as pd\n",
        "import numpy as np\n",
        "import matplotlib.pyplot as plt\n",
        "#IMDB dataset having 50K movie reviews for natural language processing or Text analytics.\n",
        "#This is a dataset for binary sentiment classification containing substantially more data than previous benchmark datasets. We provide a set of 25,000 highly polar movie reviews for training and 25,000 for testing. So, predict the number of positive and negative reviews using either classification or deep learning algorithms.\n",
        "#For more dataset information, please go through the following link,\n",
        "#http://ai.stanford.edu/~amaas/data/sentiment/"
      ],
      "execution_count": 2,
      "outputs": []
    },
    {
      "cell_type": "code",
      "metadata": {
        "id": "vO_Uzl3YNucS"
      },
      "source": [
        "df = pd.read_csv('/content/drive/MyDrive/Python_google_colab/IMDB Dataset.csv')"
      ],
      "execution_count": 3,
      "outputs": []
    },
    {
      "cell_type": "code",
      "metadata": {
        "colab": {
          "base_uri": "https://localhost:8080/",
          "height": 204
        },
        "id": "MxbrKibgNwC_",
        "outputId": "31929f54-57dc-46b4-a18e-4748e7ce49a8"
      },
      "source": [
        "df.head()"
      ],
      "execution_count": 4,
      "outputs": [
        {
          "output_type": "execute_result",
          "data": {
            "text/html": [
              "<div>\n",
              "<style scoped>\n",
              "    .dataframe tbody tr th:only-of-type {\n",
              "        vertical-align: middle;\n",
              "    }\n",
              "\n",
              "    .dataframe tbody tr th {\n",
              "        vertical-align: top;\n",
              "    }\n",
              "\n",
              "    .dataframe thead th {\n",
              "        text-align: right;\n",
              "    }\n",
              "</style>\n",
              "<table border=\"1\" class=\"dataframe\">\n",
              "  <thead>\n",
              "    <tr style=\"text-align: right;\">\n",
              "      <th></th>\n",
              "      <th>review</th>\n",
              "      <th>sentiment</th>\n",
              "    </tr>\n",
              "  </thead>\n",
              "  <tbody>\n",
              "    <tr>\n",
              "      <th>0</th>\n",
              "      <td>One of the other reviewers has mentioned that ...</td>\n",
              "      <td>positive</td>\n",
              "    </tr>\n",
              "    <tr>\n",
              "      <th>1</th>\n",
              "      <td>A wonderful little production. &lt;br /&gt;&lt;br /&gt;The...</td>\n",
              "      <td>positive</td>\n",
              "    </tr>\n",
              "    <tr>\n",
              "      <th>2</th>\n",
              "      <td>I thought this was a wonderful way to spend ti...</td>\n",
              "      <td>positive</td>\n",
              "    </tr>\n",
              "    <tr>\n",
              "      <th>3</th>\n",
              "      <td>Basically there's a family where a little boy ...</td>\n",
              "      <td>negative</td>\n",
              "    </tr>\n",
              "    <tr>\n",
              "      <th>4</th>\n",
              "      <td>Petter Mattei's \"Love in the Time of Money\" is...</td>\n",
              "      <td>positive</td>\n",
              "    </tr>\n",
              "  </tbody>\n",
              "</table>\n",
              "</div>"
            ],
            "text/plain": [
              "                                              review sentiment\n",
              "0  One of the other reviewers has mentioned that ...  positive\n",
              "1  A wonderful little production. <br /><br />The...  positive\n",
              "2  I thought this was a wonderful way to spend ti...  positive\n",
              "3  Basically there's a family where a little boy ...  negative\n",
              "4  Petter Mattei's \"Love in the Time of Money\" is...  positive"
            ]
          },
          "metadata": {
            "tags": []
          },
          "execution_count": 4
        }
      ]
    },
    {
      "cell_type": "code",
      "metadata": {
        "colab": {
          "base_uri": "https://localhost:8080/"
        },
        "id": "WMpWZ2ZDN8KA",
        "outputId": "0a2133aa-5676-4063-dbe4-4c21006425a6"
      },
      "source": [
        "import nltk\n",
        "nltk.download('stopwords')\n",
        "nltk.download('wordnet')\n",
        "from nltk.stem import WordNetLemmatizer\n",
        "from nltk.stem import PorterStemmer\n",
        "from nltk.corpus import stopwords\n",
        "import re\n",
        "\n",
        "corpus_lm = []\n",
        "wl = WordNetLemmatizer()\n",
        "for i in range(0,len(df)):\n",
        "    review = re.sub('[^a-zA-Z]',' ', df['review'][i])\n",
        "    review = review.lower()\n",
        "    review = review.split()\n",
        "    review = [wl.lemmatize(word) for word in review if not word in stopwords.words('english')]\n",
        "    review = ' '.join(review)\n",
        "    corpus_lm.append(review)"
      ],
      "execution_count": 7,
      "outputs": [
        {
          "output_type": "stream",
          "text": [
            "[nltk_data] Downloading package stopwords to /root/nltk_data...\n",
            "[nltk_data]   Package stopwords is already up-to-date!\n",
            "[nltk_data] Downloading package wordnet to /root/nltk_data...\n",
            "[nltk_data]   Unzipping corpora/wordnet.zip.\n"
          ],
          "name": "stdout"
        }
      ]
    },
    {
      "cell_type": "code",
      "metadata": {
        "colab": {
          "base_uri": "https://localhost:8080/",
          "height": 137
        },
        "id": "XUr8VD5KOkIB",
        "outputId": "d91c4712-59f3-4c79-d2d4-a7a9796eef46"
      },
      "source": [
        "corpus_lm[0]"
      ],
      "execution_count": 9,
      "outputs": [
        {
          "output_type": "execute_result",
          "data": {
            "application/vnd.google.colaboratory.intrinsic+json": {
              "type": "string"
            },
            "text/plain": [
              "'one reviewer mentioned watching oz episode hooked right exactly happened br br first thing struck oz brutality unflinching scene violence set right word go trust show faint hearted timid show pull punch regard drug sex violence hardcore classic use word br br called oz nickname given oswald maximum security state penitentary focus mainly emerald city experimental section prison cell glass front face inwards privacy high agenda em city home many aryan muslim gangsta latino christian italian irish scuffle death stare dodgy dealing shady agreement never far away br br would say main appeal show due fact go show dare forget pretty picture painted mainstream audience forget charm forget romance oz mess around first episode ever saw struck nasty surreal say ready watched developed taste oz got accustomed high level graphic violence violence injustice crooked guard sold nickel inmate kill order get away well mannered middle class inmate turned prison bitch due lack street skill prison experience watching oz may become comfortable uncomfortable viewing thats get touch darker side'"
            ]
          },
          "metadata": {
            "tags": []
          },
          "execution_count": 9
        }
      ]
    },
    {
      "cell_type": "code",
      "metadata": {
        "id": "AO5Sh0Z3VN7b"
      },
      "source": [
        "from tensorflow.keras.layers import Embedding\n",
        "from tensorflow.keras.models import Sequential\n",
        "from tensorflow.keras.preprocessing.text import one_hot\n",
        "from tensorflow.keras.preprocessing.sequence import pad_sequences\n",
        "from tensorflow.keras.layers import LSTM\n",
        "from tensorflow.keras.layers import Dense"
      ],
      "execution_count": 10,
      "outputs": []
    },
    {
      "cell_type": "code",
      "metadata": {
        "colab": {
          "base_uri": "https://localhost:8080/"
        },
        "id": "YwgGXHu_Vi-K",
        "outputId": "6273b916-7dc7-46a9-e972-4da9000ace4f"
      },
      "source": [
        "\n",
        "size_voc = 5000\n",
        "\n",
        "onehot_repr=[one_hot(words,size_voc)for words in corpus_lm] \n",
        "onehot_repr[0]"
      ],
      "execution_count": 11,
      "outputs": [
        {
          "output_type": "execute_result",
          "data": {
            "text/plain": [
              "[99,\n",
              " 1624,\n",
              " 3029,\n",
              " 67,\n",
              " 4775,\n",
              " 2676,\n",
              " 2446,\n",
              " 934,\n",
              " 2463,\n",
              " 4613,\n",
              " 395,\n",
              " 395,\n",
              " 916,\n",
              " 241,\n",
              " 472,\n",
              " 4775,\n",
              " 4748,\n",
              " 86,\n",
              " 3742,\n",
              " 4238,\n",
              " 250,\n",
              " 934,\n",
              " 4235,\n",
              " 3619,\n",
              " 2550,\n",
              " 1737,\n",
              " 358,\n",
              " 2013,\n",
              " 1445,\n",
              " 1737,\n",
              " 3615,\n",
              " 1180,\n",
              " 2799,\n",
              " 4699,\n",
              " 3515,\n",
              " 4238,\n",
              " 3711,\n",
              " 3574,\n",
              " 3067,\n",
              " 4235,\n",
              " 395,\n",
              " 395,\n",
              " 4121,\n",
              " 4775,\n",
              " 1483,\n",
              " 2070,\n",
              " 608,\n",
              " 2649,\n",
              " 1342,\n",
              " 584,\n",
              " 3382,\n",
              " 3786,\n",
              " 158,\n",
              " 4211,\n",
              " 3674,\n",
              " 554,\n",
              " 4484,\n",
              " 3528,\n",
              " 2164,\n",
              " 114,\n",
              " 3042,\n",
              " 4864,\n",
              " 1290,\n",
              " 3638,\n",
              " 4258,\n",
              " 3014,\n",
              " 1524,\n",
              " 3674,\n",
              " 3617,\n",
              " 4682,\n",
              " 4686,\n",
              " 2995,\n",
              " 1789,\n",
              " 1739,\n",
              " 3989,\n",
              " 1162,\n",
              " 1938,\n",
              " 1737,\n",
              " 361,\n",
              " 4991,\n",
              " 2053,\n",
              " 4871,\n",
              " 573,\n",
              " 955,\n",
              " 4121,\n",
              " 4479,\n",
              " 3388,\n",
              " 395,\n",
              " 395,\n",
              " 1063,\n",
              " 4702,\n",
              " 1889,\n",
              " 3153,\n",
              " 1737,\n",
              " 1067,\n",
              " 462,\n",
              " 3619,\n",
              " 1737,\n",
              " 608,\n",
              " 1467,\n",
              " 4676,\n",
              " 3030,\n",
              " 1928,\n",
              " 2782,\n",
              " 4280,\n",
              " 1467,\n",
              " 1892,\n",
              " 1467,\n",
              " 1108,\n",
              " 4775,\n",
              " 1754,\n",
              " 3128,\n",
              " 916,\n",
              " 2676,\n",
              " 2171,\n",
              " 4227,\n",
              " 472,\n",
              " 3175,\n",
              " 304,\n",
              " 4702,\n",
              " 2894,\n",
              " 3861,\n",
              " 1019,\n",
              " 473,\n",
              " 4775,\n",
              " 2148,\n",
              " 1684,\n",
              " 4258,\n",
              " 18,\n",
              " 2972,\n",
              " 4238,\n",
              " 4238,\n",
              " 4831,\n",
              " 783,\n",
              " 1751,\n",
              " 748,\n",
              " 4673,\n",
              " 1712,\n",
              " 3121,\n",
              " 4701,\n",
              " 1356,\n",
              " 3388,\n",
              " 4820,\n",
              " 2751,\n",
              " 778,\n",
              " 1979,\n",
              " 1712,\n",
              " 3061,\n",
              " 3528,\n",
              " 3007,\n",
              " 1067,\n",
              " 2856,\n",
              " 1088,\n",
              " 4178,\n",
              " 3528,\n",
              " 4600,\n",
              " 67,\n",
              " 4775,\n",
              " 3428,\n",
              " 3456,\n",
              " 3293,\n",
              " 3558,\n",
              " 3129,\n",
              " 964,\n",
              " 1356,\n",
              " 2582,\n",
              " 4169,\n",
              " 1377]"
            ]
          },
          "metadata": {
            "tags": []
          },
          "execution_count": 11
        }
      ]
    },
    {
      "cell_type": "code",
      "metadata": {
        "id": "6LrN7RHsVl-c"
      },
      "source": [
        "df_new = pd.concat([df['review'],df['sentiment']],axis=1)\n",
        "df_new.replace({'sentiment' : { 'negative' :0,  'positive' : 1}} ,inplace=True )"
      ],
      "execution_count": 16,
      "outputs": []
    },
    {
      "cell_type": "code",
      "metadata": {
        "colab": {
          "base_uri": "https://localhost:8080/",
          "height": 204
        },
        "id": "34EXhF88V4j0",
        "outputId": "8bfe97e1-374f-4391-e9d1-b4cddf088d1b"
      },
      "source": [
        "df_new.head()"
      ],
      "execution_count": 17,
      "outputs": [
        {
          "output_type": "execute_result",
          "data": {
            "text/html": [
              "<div>\n",
              "<style scoped>\n",
              "    .dataframe tbody tr th:only-of-type {\n",
              "        vertical-align: middle;\n",
              "    }\n",
              "\n",
              "    .dataframe tbody tr th {\n",
              "        vertical-align: top;\n",
              "    }\n",
              "\n",
              "    .dataframe thead th {\n",
              "        text-align: right;\n",
              "    }\n",
              "</style>\n",
              "<table border=\"1\" class=\"dataframe\">\n",
              "  <thead>\n",
              "    <tr style=\"text-align: right;\">\n",
              "      <th></th>\n",
              "      <th>review</th>\n",
              "      <th>sentiment</th>\n",
              "    </tr>\n",
              "  </thead>\n",
              "  <tbody>\n",
              "    <tr>\n",
              "      <th>0</th>\n",
              "      <td>One of the other reviewers has mentioned that ...</td>\n",
              "      <td>1</td>\n",
              "    </tr>\n",
              "    <tr>\n",
              "      <th>1</th>\n",
              "      <td>A wonderful little production. &lt;br /&gt;&lt;br /&gt;The...</td>\n",
              "      <td>1</td>\n",
              "    </tr>\n",
              "    <tr>\n",
              "      <th>2</th>\n",
              "      <td>I thought this was a wonderful way to spend ti...</td>\n",
              "      <td>1</td>\n",
              "    </tr>\n",
              "    <tr>\n",
              "      <th>3</th>\n",
              "      <td>Basically there's a family where a little boy ...</td>\n",
              "      <td>0</td>\n",
              "    </tr>\n",
              "    <tr>\n",
              "      <th>4</th>\n",
              "      <td>Petter Mattei's \"Love in the Time of Money\" is...</td>\n",
              "      <td>1</td>\n",
              "    </tr>\n",
              "  </tbody>\n",
              "</table>\n",
              "</div>"
            ],
            "text/plain": [
              "                                              review  sentiment\n",
              "0  One of the other reviewers has mentioned that ...          1\n",
              "1  A wonderful little production. <br /><br />The...          1\n",
              "2  I thought this was a wonderful way to spend ti...          1\n",
              "3  Basically there's a family where a little boy ...          0\n",
              "4  Petter Mattei's \"Love in the Time of Money\" is...          1"
            ]
          },
          "metadata": {
            "tags": []
          },
          "execution_count": 17
        }
      ]
    },
    {
      "cell_type": "code",
      "metadata": {
        "colab": {
          "base_uri": "https://localhost:8080/"
        },
        "id": "uEZrX82UV6QW",
        "outputId": "87d5bc56-365e-4db2-ad29-77deea52b7f8"
      },
      "source": [
        "sent_length=70\n",
        "embedded_docs=pad_sequences(onehot_repr,padding='pre',maxlen=sent_length)\n",
        "print(embedded_docs)"
      ],
      "execution_count": 21,
      "outputs": [
        {
          "output_type": "stream",
          "text": [
            "[[ 608 1467 4676 ... 2582 4169 1377]\n",
            " [ 332 3191 4820 ... 1583 4820 1008]\n",
            " [3617 1908 4513 ... 3619 1086 3823]\n",
            " ...\n",
            " [4820 4199 2800 ... 2687  527 4999]\n",
            " [ 739 3242 4008 ... 4053  942  902]\n",
            " [   0    0   99 ... 3928 4180 1993]]\n"
          ],
          "name": "stdout"
        }
      ]
    },
    {
      "cell_type": "code",
      "metadata": {
        "colab": {
          "base_uri": "https://localhost:8080/"
        },
        "id": "Gi1xfWI-WGGM",
        "outputId": "633ec2cf-dc11-4106-b01d-e8bb0ed7e258"
      },
      "source": [
        "from tensorflow.keras.layers import Dropout\n",
        "from keras.layers import LSTM,Bidirectional\n",
        "## Creating model\n",
        "embedding_vector_features=200\n",
        "model=Sequential()\n",
        "model.add(Embedding(size_voc,embedding_vector_features,input_length=sent_length))\n",
        "\n",
        "model.add(Bidirectional(LSTM(100)))\n",
        "model.add(Dropout(0.3))\n",
        "\n",
        "model.add(Dense(1,activation='sigmoid'))\n",
        "model.compile(loss='binary_crossentropy',optimizer='adam',metrics=['accuracy'])\n",
        "print(model.summary())"
      ],
      "execution_count": 31,
      "outputs": [
        {
          "output_type": "stream",
          "text": [
            "Model: \"sequential_1\"\n",
            "_________________________________________________________________\n",
            "Layer (type)                 Output Shape              Param #   \n",
            "=================================================================\n",
            "embedding_1 (Embedding)      (None, 70, 200)           1000000   \n",
            "_________________________________________________________________\n",
            "module_wrapper_1 (ModuleWrap (None, 200)               240800    \n",
            "_________________________________________________________________\n",
            "dropout_1 (Dropout)          (None, 200)               0         \n",
            "_________________________________________________________________\n",
            "dense_1 (Dense)              (None, 1)                 201       \n",
            "=================================================================\n",
            "Total params: 1,241,001\n",
            "Trainable params: 1,241,001\n",
            "Non-trainable params: 0\n",
            "_________________________________________________________________\n",
            "None\n"
          ],
          "name": "stdout"
        }
      ]
    },
    {
      "cell_type": "code",
      "metadata": {
        "colab": {
          "base_uri": "https://localhost:8080/"
        },
        "id": "OtDRqaqGWVob",
        "outputId": "e863bd30-fecc-46ff-9eef-d6fee64e1604"
      },
      "source": [
        "import numpy as np\n",
        "X_final_lstm = np.array(embedded_docs)\n",
        "print(X_final_lstm.shape)"
      ],
      "execution_count": 32,
      "outputs": [
        {
          "output_type": "stream",
          "text": [
            "(50000, 70)\n"
          ],
          "name": "stdout"
        }
      ]
    },
    {
      "cell_type": "code",
      "metadata": {
        "id": "Ufi9EWa2Wcpl"
      },
      "source": [
        "y = df_new['sentiment']\n",
        "from sklearn.model_selection import train_test_split\n",
        "X_train, X_test, y_train, y_test = train_test_split(X_final_lstm, y, test_size=0.2, random_state=42)"
      ],
      "execution_count": 33,
      "outputs": []
    },
    {
      "cell_type": "code",
      "metadata": {
        "colab": {
          "base_uri": "https://localhost:8080/"
        },
        "id": "4zUoFiTiWgUg",
        "outputId": "e4a97a92-968f-4115-f96b-4ebe325fa92e"
      },
      "source": [
        "history = model.fit(X_train,y_train,epochs=10,validation_data=(X_test,y_test),batch_size=100)"
      ],
      "execution_count": 34,
      "outputs": [
        {
          "output_type": "stream",
          "text": [
            "Epoch 1/10\n",
            "400/400 [==============================] - 13s 27ms/step - loss: 0.4155 - accuracy: 0.8063 - val_loss: 0.3454 - val_accuracy: 0.8446\n",
            "Epoch 2/10\n",
            "400/400 [==============================] - 10s 25ms/step - loss: 0.3185 - accuracy: 0.8636 - val_loss: 0.3612 - val_accuracy: 0.8374\n",
            "Epoch 3/10\n",
            "400/400 [==============================] - 10s 24ms/step - loss: 0.2678 - accuracy: 0.8871 - val_loss: 0.3840 - val_accuracy: 0.8377\n",
            "Epoch 4/10\n",
            "400/400 [==============================] - 10s 24ms/step - loss: 0.2210 - accuracy: 0.9096 - val_loss: 0.4040 - val_accuracy: 0.8284\n",
            "Epoch 5/10\n",
            "400/400 [==============================] - 10s 24ms/step - loss: 0.1712 - accuracy: 0.9330 - val_loss: 0.4850 - val_accuracy: 0.8205\n",
            "Epoch 6/10\n",
            "400/400 [==============================] - 10s 24ms/step - loss: 0.1262 - accuracy: 0.9531 - val_loss: 0.6692 - val_accuracy: 0.8083\n",
            "Epoch 7/10\n",
            "400/400 [==============================] - 10s 24ms/step - loss: 0.0923 - accuracy: 0.9663 - val_loss: 0.7545 - val_accuracy: 0.8154\n",
            "Epoch 8/10\n",
            "400/400 [==============================] - 10s 24ms/step - loss: 0.0671 - accuracy: 0.9770 - val_loss: 0.8178 - val_accuracy: 0.8140\n",
            "Epoch 9/10\n",
            "400/400 [==============================] - 10s 24ms/step - loss: 0.0476 - accuracy: 0.9843 - val_loss: 0.8199 - val_accuracy: 0.7989\n",
            "Epoch 10/10\n",
            "400/400 [==============================] - 10s 24ms/step - loss: 0.0452 - accuracy: 0.9848 - val_loss: 0.9454 - val_accuracy: 0.8068\n"
          ],
          "name": "stdout"
        }
      ]
    },
    {
      "cell_type": "code",
      "metadata": {
        "colab": {
          "base_uri": "https://localhost:8080/"
        },
        "id": "MFZ7HbZzWjZY",
        "outputId": "80a53418-d0d6-400b-f269-5e37728a0d77"
      },
      "source": [
        "################### test data prediction #####################################\n",
        "y_pred=model.predict_classes(X_test)\n",
        "from sklearn.metrics import confusion_matrix\n",
        "print(\"confusion-matrix:\\n\" ,confusion_matrix(y_test,y_pred))\n",
        "\n",
        "from sklearn.metrics import accuracy_score\n",
        "print(\"accuracy_score:\", accuracy_score(y_test,y_pred))"
      ],
      "execution_count": 35,
      "outputs": [
        {
          "output_type": "stream",
          "text": [
            "/usr/local/lib/python3.7/dist-packages/tensorflow/python/keras/engine/sequential.py:455: UserWarning: `model.predict_classes()` is deprecated and will be removed after 2021-01-01. Please use instead:* `np.argmax(model.predict(x), axis=-1)`,   if your model does multi-class classification   (e.g. if it uses a `softmax` last-layer activation).* `(model.predict(x) > 0.5).astype(\"int32\")`,   if your model does binary classification   (e.g. if it uses a `sigmoid` last-layer activation).\n",
            "  warnings.warn('`model.predict_classes()` is deprecated and '\n"
          ],
          "name": "stderr"
        },
        {
          "output_type": "stream",
          "text": [
            "confusion-matrix:\n",
            " [[4028  933]\n",
            " [ 999 4040]]\n",
            "accuracy_score: 0.8068\n"
          ],
          "name": "stdout"
        }
      ]
    },
    {
      "cell_type": "code",
      "metadata": {
        "colab": {
          "base_uri": "https://localhost:8080/",
          "height": 590
        },
        "id": "UFRnVpBGYMO4",
        "outputId": "14d04d15-dca1-47df-c89d-90d9557926e9"
      },
      "source": [
        "print(history.history.keys())\n",
        "# summarize history for accuracy\n",
        "plt.plot(history.history['accuracy'])\n",
        "plt.plot(history.history['val_accuracy'])\n",
        "plt.title('model accuracy')\n",
        "plt.ylabel('accuracy')\n",
        "plt.xlabel('epoch')\n",
        "plt.legend(['train', 'test'], loc='upper left')\n",
        "plt.show()\n",
        "# summarize history for loss\n",
        "plt.plot(history.history['loss'])\n",
        "plt.plot(history.history['val_loss'])\n",
        "plt.title('model loss')\n",
        "plt.ylabel('loss')\n",
        "plt.xlabel('epoch')\n",
        "plt.legend(['train', 'test'], loc='upper left')\n",
        "plt.show()"
      ],
      "execution_count": 36,
      "outputs": [
        {
          "output_type": "stream",
          "text": [
            "dict_keys(['loss', 'accuracy', 'val_loss', 'val_accuracy'])\n"
          ],
          "name": "stdout"
        },
        {
          "output_type": "display_data",
          "data": {
            "image/png": "[encoded data removed]",
            "text/plain": [
              "<Figure size 432x288 with 1 Axes>"
            ]
          },
          "metadata": {
            "tags": [],
            "needs_background": "light"
          }
        },
        {
          "output_type": "display_data",
          "data": {
            "image/png": "[encoded data removed]",
            "text/plain": [
              "<Figure size 432x288 with 1 Axes>"
            ]
          },
          "metadata": {
            "tags": [],
            "needs_background": "light"
          }
        }
      ]
    },
    {
      "cell_type": "code",
      "metadata": {
        "colab": {
          "base_uri": "https://localhost:8080/",
          "height": 1000
        },
        "id": "mjHfn0jzWzYn",
        "outputId": "6ea4c526-c95b-49ad-9770-a814a26679d0"
      },
      "source": [
        "import keras\n",
        "size_voc = 5000\n",
        "model2 = Sequential()\n",
        "embedding_vector_features = 140\n",
        "model2.add(Embedding(size_voc,embedding_vector_features,input_length=sent_length))\n",
        "model2.add(LSTM(100, dropout = 0.2, return_sequences = True))\n",
        "model2.add(LSTM(100,dropout= 0.2))\n",
        "model2.add(Dense(1,activation='sigmoid'))\n",
        "optimizer1 = keras.optimizers.Adam(lr=0.005)\n",
        "model2.compile(loss='binary_crossentropy',optimizer=optimizer1,metrics=['accuracy'])\n",
        "print(model2.summary())\n",
        "\n",
        "\n",
        "history = model2.fit(X_train,y_train,epochs=4,validation_data=(X_test,y_test),batch_size=80)\n",
        "\n",
        "\n",
        "# summarize history for accuracy\n",
        "plt.plot(history.history['accuracy'])\n",
        "plt.plot(history.history['val_accuracy'])\n",
        "plt.title('model accuracy')\n",
        "plt.ylabel('accuracy')\n",
        "plt.xlabel('epoch')\n",
        "plt.legend(['train', 'test'], loc='upper left')\n",
        "plt.show()\n",
        "# summarize history for loss\n",
        "plt.plot(history.history['loss'])\n",
        "plt.plot(history.history['val_loss'])\n",
        "plt.title('model loss')\n",
        "plt.ylabel('loss')\n",
        "plt.xlabel('epoch')\n",
        "plt.legend(['train', 'test'], loc='upper left')\n",
        "plt.show()"
      ],
      "execution_count": 68,
      "outputs": [
        {
          "output_type": "stream",
          "text": [
            "/usr/local/lib/python3.7/dist-packages/tensorflow/python/keras/optimizer_v2/optimizer_v2.py:375: UserWarning: The `lr` argument is deprecated, use `learning_rate` instead.\n",
            "  \"The `lr` argument is deprecated, use `learning_rate` instead.\")\n"
          ],
          "name": "stderr"
        },
        {
          "output_type": "stream",
          "text": [
            "Model: \"sequential_21\"\n",
            "_________________________________________________________________\n",
            "Layer (type)                 Output Shape              Param #   \n",
            "=================================================================\n",
            "embedding_20 (Embedding)     (None, 70, 140)           700000    \n",
            "_________________________________________________________________\n",
            "module_wrapper_38 (ModuleWra (None, 70, 100)           96400     \n",
            "_________________________________________________________________\n",
            "module_wrapper_39 (ModuleWra (None, 100)               80400     \n",
            "_________________________________________________________________\n",
            "dense_20 (Dense)             (None, 1)                 101       \n",
            "=================================================================\n",
            "Total params: 876,901\n",
            "Trainable params: 876,901\n",
            "Non-trainable params: 0\n",
            "_________________________________________________________________\n",
            "None\n",
            "Epoch 1/4\n",
            "500/500 [==============================] - 13s 21ms/step - loss: 0.4563 - accuracy: 0.7887 - val_loss: 0.4201 - val_accuracy: 0.8064\n",
            "Epoch 2/4\n",
            "500/500 [==============================] - 10s 20ms/step - loss: 0.3455 - accuracy: 0.8535 - val_loss: 0.3695 - val_accuracy: 0.8346\n",
            "Epoch 3/4\n",
            "500/500 [==============================] - 10s 20ms/step - loss: 0.2938 - accuracy: 0.8771 - val_loss: 0.3863 - val_accuracy: 0.8346\n",
            "Epoch 4/4\n",
            "500/500 [==============================] - 11s 21ms/step - loss: 0.2504 - accuracy: 0.8968 - val_loss: 0.3800 - val_accuracy: 0.8404\n"
          ],
          "name": "stdout"
        },
        {
          "output_type": "display_data",
          "data": {
            "image/png": "[encoded data removed]",
            "text/plain": [
              "<Figure size 432x288 with 1 Axes>"
            ]
          },
          "metadata": {
            "tags": [],
            "needs_background": "light"
          }
        },
        {
          "output_type": "display_data",
          "data": {
            "image/png": "[encoded data removed]",
            "text/plain": [
              "<Figure size 432x288 with 1 Axes>"
            ]
          },
          "metadata": {
            "tags": [],
            "needs_background": "light"
          }
        }
      ]
    },
    {
      "cell_type": "code",
      "metadata": {
        "colab": {
          "base_uri": "https://localhost:8080/"
        },
        "id": "_cOhtdTAbTWZ",
        "outputId": "ebbe8803-baea-498e-ab6e-84d8dc66e635"
      },
      "source": [
        "################### test data prediction #####################################\n",
        "y_pred=model2.predict_classes(X_test)\n",
        "from sklearn.metrics import confusion_matrix\n",
        "print(\"confusion-matrix:\\n\" ,confusion_matrix(y_test,y_pred))\n",
        "\n",
        "from sklearn.metrics import accuracy_score\n",
        "print(\"accuracy_score:\", accuracy_score(y_test,y_pred))"
      ],
      "execution_count": 69,
      "outputs": [
        {
          "output_type": "stream",
          "text": [
            "/usr/local/lib/python3.7/dist-packages/tensorflow/python/keras/engine/sequential.py:455: UserWarning: `model.predict_classes()` is deprecated and will be removed after 2021-01-01. Please use instead:* `np.argmax(model.predict(x), axis=-1)`,   if your model does multi-class classification   (e.g. if it uses a `softmax` last-layer activation).* `(model.predict(x) > 0.5).astype(\"int32\")`,   if your model does binary classification   (e.g. if it uses a `sigmoid` last-layer activation).\n",
            "  warnings.warn('`model.predict_classes()` is deprecated and '\n"
          ],
          "name": "stderr"
        },
        {
          "output_type": "stream",
          "text": [
            "confusion-matrix:\n",
            " [[4124  837]\n",
            " [ 759 4280]]\n",
            "accuracy_score: 0.8404\n"
          ],
          "name": "stdout"
        }
      ]
    },
    {
      "cell_type": "code",
      "metadata": {
        "colab": {
          "base_uri": "https://localhost:8080/",
          "height": 984
        },
        "id": "YJ4HqPYrce8c",
        "outputId": "6d848af5-0f3d-4345-859c-e54d036b653a"
      },
      "source": [
        "import keras\n",
        "size_voc = 5000\n",
        "model2 = Sequential()\n",
        "embedding_vector_features = 140\n",
        "model2.add(Embedding(size_voc,embedding_vector_features,input_length=sent_length))\n",
        "model2.add(LSTM(100, dropout = 0.5, return_sequences = True))\n",
        "model2.add(LSTM(100,dropout= 0.5))\n",
        "model2.add(Dense(1,activation='sigmoid'))\n",
        "optimizer1 = keras.optimizers.Adam(lr=0.0003)\n",
        "model2.compile(loss='binary_crossentropy',optimizer=optimizer1,metrics=['accuracy'])\n",
        "print(model2.summary())\n",
        "\n",
        "\n",
        "history = model2.fit(X_train,y_train,epochs=2,validation_data=(X_test,y_test),batch_size=40)\n",
        "\n",
        "\n",
        "# summarize history for accuracy\n",
        "plt.plot(history.history['accuracy'])\n",
        "plt.plot(history.history['val_accuracy'])\n",
        "plt.title('model accuracy')\n",
        "plt.ylabel('accuracy')\n",
        "plt.xlabel('epoch')\n",
        "plt.legend(['train', 'test'], loc='upper left')\n",
        "plt.show()\n",
        "# summarize history for loss\n",
        "plt.plot(history.history['loss'])\n",
        "plt.plot(history.history['val_loss'])\n",
        "plt.title('model loss')\n",
        "plt.ylabel('loss')\n",
        "plt.xlabel('epoch')\n",
        "plt.legend(['train', 'test'], loc='upper left')\n",
        "plt.show()"
      ],
      "execution_count": 88,
      "outputs": [
        {
          "output_type": "stream",
          "text": [
            "/usr/local/lib/python3.7/dist-packages/tensorflow/python/keras/optimizer_v2/optimizer_v2.py:375: UserWarning: The `lr` argument is deprecated, use `learning_rate` instead.\n",
            "  \"The `lr` argument is deprecated, use `learning_rate` instead.\")\n"
          ],
          "name": "stderr"
        },
        {
          "output_type": "stream",
          "text": [
            "Model: \"sequential_40\"\n",
            "_________________________________________________________________\n",
            "Layer (type)                 Output Shape              Param #   \n",
            "=================================================================\n",
            "embedding_39 (Embedding)     (None, 70, 140)           700000    \n",
            "_________________________________________________________________\n",
            "module_wrapper_76 (ModuleWra (None, 70, 100)           96400     \n",
            "_________________________________________________________________\n",
            "module_wrapper_77 (ModuleWra (None, 100)               80400     \n",
            "_________________________________________________________________\n",
            "dense_39 (Dense)             (None, 1)                 101       \n",
            "=================================================================\n",
            "Total params: 876,901\n",
            "Trainable params: 876,901\n",
            "Non-trainable params: 0\n",
            "_________________________________________________________________\n",
            "None\n",
            "Epoch 1/2\n",
            "1000/1000 [==============================] - 24s 21ms/step - loss: 0.4297 - accuracy: 0.7923 - val_loss: 0.3559 - val_accuracy: 0.8428\n",
            "Epoch 2/2\n",
            "1000/1000 [==============================] - 20s 20ms/step - loss: 0.3390 - accuracy: 0.8534 - val_loss: 0.3539 - val_accuracy: 0.8424\n"
          ],
          "name": "stdout"
        },
        {
          "output_type": "display_data",
          "data": {
            "image/png": "[encoded data removed]",
            "text/plain": [
              "<Figure size 432x288 with 1 Axes>"
            ]
          },
          "metadata": {
            "tags": [],
            "needs_background": "light"
          }
        },
        {
          "output_type": "display_data",
          "data": {
            "image/png": "[encoded data removed]",
            "text/plain": [
              "<Figure size 432x288 with 1 Axes>"
            ]
          },
          "metadata": {
            "tags": [],
            "needs_background": "light"
          }
        }
      ]
    },
    {
      "cell_type": "code",
      "metadata": {
        "id": "GbpCzTG0j3c8"
      },
      "source": [
        ""
      ],
      "execution_count": null,
      "outputs": []
    }
  ]
}
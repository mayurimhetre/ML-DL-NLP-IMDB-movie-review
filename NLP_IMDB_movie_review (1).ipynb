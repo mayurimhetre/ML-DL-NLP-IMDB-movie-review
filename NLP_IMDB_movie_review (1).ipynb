{
  "nbformat": 4,
  "nbformat_minor": 0,
  "metadata": {
    "colab": {
      "name": "NLP-IMDB-movie-review.ipynb",
      "provenance": [],
      "collapsed_sections": []
    },
    "kernelspec": {
      "name": "python3",
      "display_name": "Python 3"
    },
    "language_info": {
      "name": "python"
    },
    "accelerator": "GPU"
  },
  "cells": [
    {
      "cell_type": "code",
      "metadata": {
        "colab": {
          "base_uri": "https://localhost:8080/"
        },
        "id": "3NtnZZzecbPN",
        "outputId": "717b91c1-04c5-4ff7-e333-6fd812f76707"
      },
      "source": [
        "from google.colab import drive\n",
        "drive.mount('/content/drive')"
      ],
      "execution_count": 1,
      "outputs": [
        {
          "output_type": "stream",
          "text": [
            "Mounted at /content/drive\n"
          ],
          "name": "stdout"
        }
      ]
    },
    {
      "cell_type": "code",
      "metadata": {
        "id": "UhPMKgoLceFO"
      },
      "source": [
        "import pandas as pd\n",
        "import numpy as np\n",
        "import matplotlib.pyplot as plt\n",
        "#IMDB dataset having 50K movie reviews for natural language processing or Text analytics.\n",
        "#This is a dataset for binary sentiment classification containing substantially more data than previous benchmark datasets. We provide a set of 25,000 highly polar movie reviews for training and 25,000 for testing. So, predict the number of positive and negative reviews using either classification or deep learning algorithms.\n",
        "#For more dataset information, please go through the following link,\n",
        "#http://ai.stanford.edu/~amaas/data/sentiment/"
      ],
      "execution_count": 2,
      "outputs": []
    },
    {
      "cell_type": "code",
      "metadata": {
        "id": "xSe9ihhJc5uy"
      },
      "source": [
        "df = pd.read_csv('/content/drive/MyDrive/Python_google_colab/IMDB Dataset.csv')"
      ],
      "execution_count": 3,
      "outputs": []
    },
    {
      "cell_type": "code",
      "metadata": {
        "colab": {
          "base_uri": "https://localhost:8080/",
          "height": 204
        },
        "id": "AKP_lZXidJLF",
        "outputId": "972ebf98-f3eb-43b3-b6fe-6a7d25324a91"
      },
      "source": [
        "df.head()"
      ],
      "execution_count": 4,
      "outputs": [
        {
          "output_type": "execute_result",
          "data": {
            "text/html": [
              "<div>\n",
              "<style scoped>\n",
              "    .dataframe tbody tr th:only-of-type {\n",
              "        vertical-align: middle;\n",
              "    }\n",
              "\n",
              "    .dataframe tbody tr th {\n",
              "        vertical-align: top;\n",
              "    }\n",
              "\n",
              "    .dataframe thead th {\n",
              "        text-align: right;\n",
              "    }\n",
              "</style>\n",
              "<table border=\"1\" class=\"dataframe\">\n",
              "  <thead>\n",
              "    <tr style=\"text-align: right;\">\n",
              "      <th></th>\n",
              "      <th>review</th>\n",
              "      <th>sentiment</th>\n",
              "    </tr>\n",
              "  </thead>\n",
              "  <tbody>\n",
              "    <tr>\n",
              "      <th>0</th>\n",
              "      <td>One of the other reviewers has mentioned that ...</td>\n",
              "      <td>positive</td>\n",
              "    </tr>\n",
              "    <tr>\n",
              "      <th>1</th>\n",
              "      <td>A wonderful little production. &lt;br /&gt;&lt;br /&gt;The...</td>\n",
              "      <td>positive</td>\n",
              "    </tr>\n",
              "    <tr>\n",
              "      <th>2</th>\n",
              "      <td>I thought this was a wonderful way to spend ti...</td>\n",
              "      <td>positive</td>\n",
              "    </tr>\n",
              "    <tr>\n",
              "      <th>3</th>\n",
              "      <td>Basically there's a family where a little boy ...</td>\n",
              "      <td>negative</td>\n",
              "    </tr>\n",
              "    <tr>\n",
              "      <th>4</th>\n",
              "      <td>Petter Mattei's \"Love in the Time of Money\" is...</td>\n",
              "      <td>positive</td>\n",
              "    </tr>\n",
              "  </tbody>\n",
              "</table>\n",
              "</div>"
            ],
            "text/plain": [
              "                                              review sentiment\n",
              "0  One of the other reviewers has mentioned that ...  positive\n",
              "1  A wonderful little production. <br /><br />The...  positive\n",
              "2  I thought this was a wonderful way to spend ti...  positive\n",
              "3  Basically there's a family where a little boy ...  negative\n",
              "4  Petter Mattei's \"Love in the Time of Money\" is...  positive"
            ]
          },
          "metadata": {
            "tags": []
          },
          "execution_count": 4
        }
      ]
    },
    {
      "cell_type": "code",
      "metadata": {
        "colab": {
          "base_uri": "https://localhost:8080/"
        },
        "id": "xsWaXASJdKrp",
        "outputId": "239186a4-6066-4147-aaff-ff17ead1baa2"
      },
      "source": [
        "df.shape"
      ],
      "execution_count": 5,
      "outputs": [
        {
          "output_type": "execute_result",
          "data": {
            "text/plain": [
              "(50000, 2)"
            ]
          },
          "metadata": {
            "tags": []
          },
          "execution_count": 5
        }
      ]
    },
    {
      "cell_type": "code",
      "metadata": {
        "colab": {
          "base_uri": "https://localhost:8080/",
          "height": 137
        },
        "id": "Rykg7Kl-dMPO",
        "outputId": "d64ce5c3-1b61-4946-94a2-93dc3b29123c"
      },
      "source": [
        "df['review'][0]"
      ],
      "execution_count": 6,
      "outputs": [
        {
          "output_type": "execute_result",
          "data": {
            "application/vnd.google.colaboratory.intrinsic+json": {
              "type": "string"
            },
            "text/plain": [
              "\"One of the other reviewers has mentioned that after watching just 1 Oz episode you'll be hooked. They are right, as this is exactly what happened with me.<br /><br />The first thing that struck me about Oz was its brutality and unflinching scenes of violence, which set in right from the word GO. Trust me, this is not a show for the faint hearted or timid. This show pulls no punches with regards to drugs, sex or violence. Its is hardcore, in the classic use of the word.<br /><br />It is called OZ as that is the nickname given to the Oswald Maximum Security State Penitentary. It focuses mainly on Emerald City, an experimental section of the prison where all the cells have glass fronts and face inwards, so privacy is not high on the agenda. Em City is home to many..Aryans, Muslims, gangstas, Latinos, Christians, Italians, Irish and more....so scuffles, death stares, dodgy dealings and shady agreements are never far away.<br /><br />I would say the main appeal of the show is due to the fact that it goes where other shows wouldn't dare. Forget pretty pictures painted for mainstream audiences, forget charm, forget romance...OZ doesn't mess around. The first episode I ever saw struck me as so nasty it was surreal, I couldn't say I was ready for it, but as I watched more, I developed a taste for Oz, and got accustomed to the high levels of graphic violence. Not just violence, but injustice (crooked guards who'll be sold out for a nickel, inmates who'll kill on order and get away with it, well mannered, middle class inmates being turned into prison bitches due to their lack of street skills or prison experience) Watching Oz, you may become comfortable with what is uncomfortable viewing....thats if you can get in touch with your darker side.\""
            ]
          },
          "metadata": {
            "tags": []
          },
          "execution_count": 6
        }
      ]
    },
    {
      "cell_type": "code",
      "metadata": {
        "colab": {
          "base_uri": "https://localhost:8080/"
        },
        "id": "K6ZgGOo4desh",
        "outputId": "ab13b312-8123-4db4-ce3f-c73e885e991e"
      },
      "source": [
        "df.isnull().sum()"
      ],
      "execution_count": 14,
      "outputs": [
        {
          "output_type": "execute_result",
          "data": {
            "text/plain": [
              "review       0\n",
              "sentiment    0\n",
              "dtype: int64"
            ]
          },
          "metadata": {
            "tags": []
          },
          "execution_count": 14
        }
      ]
    },
    {
      "cell_type": "code",
      "metadata": {
        "colab": {
          "base_uri": "https://localhost:8080/",
          "height": 316
        },
        "id": "3xbBNpPsdkvi",
        "outputId": "d19ade55-5b0d-4575-f38a-40cb0849bde5"
      },
      "source": [
        "df['sentiment'].value_counts().plot.bar()"
      ],
      "execution_count": 8,
      "outputs": [
        {
          "output_type": "execute_result",
          "data": {
            "text/plain": [
              "<matplotlib.axes._subplots.AxesSubplot at 0x7f9e89ca9f50>"
            ]
          },
          "metadata": {
            "tags": []
          },
          "execution_count": 8
        },
        {
          "output_type": "display_data",
          "data": {
            "image/png": "[encoded data removed]",
            "text/plain": [
              "<Figure size 432x288 with 1 Axes>"
            ]
          },
          "metadata": {
            "tags": [],
            "needs_background": "light"
          }
        }
      ]
    },
    {
      "cell_type": "code",
      "metadata": {
        "colab": {
          "base_uri": "https://localhost:8080/"
        },
        "id": "EZvD1DlZdrj_",
        "outputId": "5cb21c93-975b-4dbc-a8d0-25dbc92f6e99"
      },
      "source": [
        "df['sentiment'].value_counts()"
      ],
      "execution_count": 15,
      "outputs": [
        {
          "output_type": "execute_result",
          "data": {
            "text/plain": [
              "positive    25000\n",
              "negative    25000\n",
              "Name: sentiment, dtype: int64"
            ]
          },
          "metadata": {
            "tags": []
          },
          "execution_count": 15
        }
      ]
    },
    {
      "cell_type": "code",
      "metadata": {
        "colab": {
          "base_uri": "https://localhost:8080/"
        },
        "id": "gQfTRgNiduTK",
        "outputId": "739f217e-0d6e-4740-81d9-63e8789886dc"
      },
      "source": [
        "from nltk.corpus import stopwords\n",
        "from nltk.stem.porter import PorterStemmer\n",
        "import nltk\n",
        "nltk.download('stopwords')\n",
        "import re\n",
        "ps = PorterStemmer()\n",
        "corpus = []\n",
        "for i in range(0, len(df)):\n",
        "    review1 = re.sub('[^a-zA-Z]', ' ', df['review'][i])\n",
        "    review1 = review1.lower()\n",
        "    review1 = review1.split()\n",
        "    \n",
        "    review1 = [ps.stem(word) for word in review1 if not word in stopwords.words('english')]\n",
        "    review1 = ' '.join(review1)\n",
        "    corpus.append(review1)"
      ],
      "execution_count": 16,
      "outputs": [
        {
          "output_type": "stream",
          "text": [
            "[nltk_data] Downloading package stopwords to /root/nltk_data...\n",
            "[nltk_data]   Package stopwords is already up-to-date!\n"
          ],
          "name": "stdout"
        }
      ]
    },
    {
      "cell_type": "code",
      "metadata": {
        "colab": {
          "base_uri": "https://localhost:8080/",
          "height": 137
        },
        "id": "8qyIM4V1d3N8",
        "outputId": "2a5680cf-bdf9-4d6e-e874-8301cf3a8326"
      },
      "source": [
        "corpus[0]"
      ],
      "execution_count": 17,
      "outputs": [
        {
          "output_type": "execute_result",
          "data": {
            "application/vnd.google.colaboratory.intrinsic+json": {
              "type": "string"
            },
            "text/plain": [
              "'one review mention watch oz episod hook right exactli happen br br first thing struck oz brutal unflinch scene violenc set right word go trust show faint heart timid show pull punch regard drug sex violenc hardcor classic use word br br call oz nicknam given oswald maximum secur state penitentari focus mainli emerald citi experiment section prison cell glass front face inward privaci high agenda em citi home mani aryan muslim gangsta latino christian italian irish scuffl death stare dodgi deal shadi agreement never far away br br would say main appeal show due fact goe show dare forget pretti pictur paint mainstream audienc forget charm forget romanc oz mess around first episod ever saw struck nasti surreal say readi watch develop tast oz got accustom high level graphic violenc violenc injustic crook guard sold nickel inmat kill order get away well manner middl class inmat turn prison bitch due lack street skill prison experi watch oz may becom comfort uncomfort view that get touch darker side'"
            ]
          },
          "metadata": {
            "tags": []
          },
          "execution_count": 17
        }
      ]
    },
    {
      "cell_type": "code",
      "metadata": {
        "colab": {
          "base_uri": "https://localhost:8080/"
        },
        "id": "Q-8OCosxguGS",
        "outputId": "4d979be4-93fb-48c4-f060-7d7e35bb9332"
      },
      "source": [
        "from sklearn.feature_extraction.text import CountVectorizer\n",
        "cv = CountVectorizer(max_features= 3000,ngram_range=(1,4))\n",
        "X = cv.fit_transform(corpus).toarray()\n",
        "y = df['sentiment']\n",
        "\n",
        "from sklearn.model_selection import train_test_split\n",
        "X_train, X_test, y_train, y_test = train_test_split(X, y, test_size=0.3, random_state=42)\n",
        "\n",
        "\n",
        "from sklearn.naive_bayes import MultinomialNB\n",
        "mb = MultinomialNB()\n",
        "mb.fit(X_train, y_train)\n",
        "\n",
        "y_pred=mb.predict(X_test)\n",
        "\n",
        "\n",
        "from sklearn.metrics import confusion_matrix\n",
        "print(confusion_matrix(y_pred,y_test))\n",
        "\n",
        "print(\"TRAIN DATA accuracy:\", mb.score(X_train,y_train))\n",
        "\n",
        "print(\"TEST data accuracy: \", mb.score(X_test,y_test))"
      ],
      "execution_count": 19,
      "outputs": [
        {
          "output_type": "stream",
          "text": [
            "[[6168 1109]\n",
            " [1243 6480]]\n",
            "TRAIN DATA accuracy: 0.8498\n",
            "TEST data accuracy:  0.8432\n"
          ],
          "name": "stdout"
        }
      ]
    },
    {
      "cell_type": "code",
      "metadata": {
        "colab": {
          "base_uri": "https://localhost:8080/"
        },
        "id": "AkCRabeevcHq",
        "outputId": "ac24047b-fa71-4b03-faba-216d9872a450"
      },
      "source": [
        "from sklearn.metrics import accuracy_score\n",
        "accuracy = accuracy_score(y_test, y_pred)\n",
        "print(\"MNV accuracy: \" ,accuracy)"
      ],
      "execution_count": 22,
      "outputs": [
        {
          "output_type": "stream",
          "text": [
            "MNV accuracy:  0.8432\n"
          ],
          "name": "stdout"
        }
      ]
    },
    {
      "cell_type": "code",
      "metadata": {
        "colab": {
          "base_uri": "https://localhost:8080/"
        },
        "id": "X1hTIvQZt5ec",
        "outputId": "50891da4-b4a1-46ff-9e29-a128b6e77cb6"
      },
      "source": [
        "\n",
        "from sklearn.ensemble import RandomForestClassifier\n",
        "clf_rf = RandomForestClassifier()\n",
        "\n",
        "clf_rf.fit(X_train,y_train)\n",
        "rf_y_pred = clf_rf.predict(X_test)\n",
        "\n",
        "print(\"Accuracy of train data: \" , clf_rf.score(X_train,y_train))\n",
        "print(\"Accuracy of test data: \" , clf_rf.score(X_test,rf_y_pred))\n",
        "\n",
        "from sklearn.metrics import accuracy_score\n",
        "accuracy1 = accuracy_score(y_test, rf_y_pred)\n",
        "print(\"Accuracy of RFC is:\" , accuracy1)"
      ],
      "execution_count": 23,
      "outputs": [
        {
          "output_type": "stream",
          "text": [
            "Accuracy of train data:  1.0\n",
            "Accuracy of test data:  1.0\n",
            "Accuracy of RFC is: 0.8436666666666667\n"
          ],
          "name": "stdout"
        }
      ]
    },
    {
      "cell_type": "code",
      "metadata": {
        "colab": {
          "base_uri": "https://localhost:8080/"
        },
        "id": "Y0MgmetjvAGd",
        "outputId": "d98abc34-a126-4f57-9385-21c8ad217d4a"
      },
      "source": [
        "from sklearn.feature_extraction.text import TfidfVectorizer\n",
        "tf = TfidfVectorizer(ngram_range= (1,5),max_features= 4000)\n",
        "x_new = tf.fit_transform(corpus).toarray()\n",
        "\n",
        "X_final = pd.DataFrame(x_new, columns= tf.get_feature_names())\n",
        "\n",
        "from sklearn.model_selection import train_test_split\n",
        "X_train, X_test, y_train, y_test = train_test_split(X_final, y, test_size=0.3, random_state=42)\n",
        "\n",
        "from sklearn.naive_bayes import MultinomialNB\n",
        "mb = MultinomialNB()\n",
        "mb.fit(X_train, y_train)\n",
        "\n",
        "y_pred_tfid = mb.predict(X_test)\n",
        "\n",
        "\n",
        "from sklearn.metrics import confusion_matrix\n",
        "print(confusion_matrix(y_pred_tfid,y_test))\n",
        "\n",
        "print(\"TRAIN DATA accuracy:\", mb.score(X_train,y_train))\n",
        "\n",
        "print(\"TEST data accuracy: \", mb.score(X_test,y_test))\n",
        "\n",
        "\n",
        "from sklearn.metrics import accuracy_score\n",
        "accuracy2 = accuracy_score(y_test, y_pred_tfid)\n",
        "print(\"TFIDF MNV classifier accuracy: \" ,accuracy2)"
      ],
      "execution_count": 24,
      "outputs": [
        {
          "output_type": "stream",
          "text": [
            "[[6193  964]\n",
            " [1218 6625]]\n",
            "TRAIN DATA accuracy: 0.8602571428571428\n",
            "TEST data accuracy:  0.8545333333333334\n",
            "TFIDF MNV classifier accuracy:  0.8545333333333334\n"
          ],
          "name": "stdout"
        }
      ]
    },
    {
      "cell_type": "code",
      "metadata": {
        "colab": {
          "base_uri": "https://localhost:8080/"
        },
        "id": "nka36pJNwVZJ",
        "outputId": "ab6d82e1-6326-4146-e822-b946795ccfba"
      },
      "source": [
        "alpha = [0,0.1,0.2,0.3,0.4,0.5,0.6,0.7,0.8,0.9,1.0]\n",
        "accc = []\n",
        "for i in alpha:\n",
        "  mb = MultinomialNB(alpha=i)\n",
        "  mb.fit(X_train, y_train)\n",
        "  y_pred_tfid = mb.predict(X_test)\n",
        "  print(\"TRAIN DATA accuracy:\", mb.score(X_train,y_train))\n",
        "  print(\"TEST data accuracy: \", mb.score(X_test,y_test))\n",
        "  accuracy2 = accuracy_score(y_test, y_pred_tfid)\n",
        "  accc.append(accuracy2)\n",
        "  print(\"TFIDF MNV classifier accuracy for value of alpha {} is: {}\".format(i,accuracy2))\n",
        "\n",
        "\n"
      ],
      "execution_count": 25,
      "outputs": [
        {
          "output_type": "stream",
          "text": [
            "/usr/local/lib/python3.7/dist-packages/sklearn/naive_bayes.py:507: UserWarning: alpha too small will result in numeric errors, setting alpha = 1.0e-10\n",
            "  'setting alpha = %.1e' % _ALPHA_MIN)\n"
          ],
          "name": "stderr"
        },
        {
          "output_type": "stream",
          "text": [
            "TRAIN DATA accuracy: 0.8598571428571429\n",
            "TEST data accuracy:  0.8544666666666667\n",
            "TFIDF MNV classifier accuracy for value of alpha 0 is: 0.8544666666666667\n",
            "TRAIN DATA accuracy: 0.8598285714285714\n",
            "TEST data accuracy:  0.8542666666666666\n",
            "TFIDF MNV classifier accuracy for value of alpha 0.1 is: 0.8542666666666666\n",
            "TRAIN DATA accuracy: 0.8598285714285714\n",
            "TEST data accuracy:  0.8543333333333333\n",
            "TFIDF MNV classifier accuracy for value of alpha 0.2 is: 0.8543333333333333\n",
            "TRAIN DATA accuracy: 0.8599142857142857\n",
            "TEST data accuracy:  0.8544\n",
            "TFIDF MNV classifier accuracy for value of alpha 0.3 is: 0.8544\n",
            "TRAIN DATA accuracy: 0.8598857142857143\n",
            "TEST data accuracy:  0.8544666666666667\n",
            "TFIDF MNV classifier accuracy for value of alpha 0.4 is: 0.8544666666666667\n",
            "TRAIN DATA accuracy: 0.8600285714285715\n",
            "TEST data accuracy:  0.8543333333333333\n",
            "TFIDF MNV classifier accuracy for value of alpha 0.5 is: 0.8543333333333333\n",
            "TRAIN DATA accuracy: 0.8602\n",
            "TEST data accuracy:  0.8542\n",
            "TFIDF MNV classifier accuracy for value of alpha 0.6 is: 0.8542\n",
            "TRAIN DATA accuracy: 0.8602285714285715\n",
            "TEST data accuracy:  0.8541333333333333\n",
            "TFIDF MNV classifier accuracy for value of alpha 0.7 is: 0.8541333333333333\n",
            "TRAIN DATA accuracy: 0.8601142857142857\n",
            "TEST data accuracy:  0.8542666666666666\n",
            "TFIDF MNV classifier accuracy for value of alpha 0.8 is: 0.8542666666666666\n",
            "TRAIN DATA accuracy: 0.8602857142857143\n",
            "TEST data accuracy:  0.8544666666666667\n",
            "TFIDF MNV classifier accuracy for value of alpha 0.9 is: 0.8544666666666667\n",
            "TRAIN DATA accuracy: 0.8602571428571428\n",
            "TEST data accuracy:  0.8545333333333334\n",
            "TFIDF MNV classifier accuracy for value of alpha 1.0 is: 0.8545333333333334\n"
          ],
          "name": "stdout"
        }
      ]
    },
    {
      "cell_type": "code",
      "metadata": {
        "colab": {
          "base_uri": "https://localhost:8080/",
          "height": 285
        },
        "id": "wxawPM_1xoO7",
        "outputId": "b3924cdb-77ae-471e-fb30-39b6731b57b5"
      },
      "source": [
        "plt.plot(alpha,accc)"
      ],
      "execution_count": 26,
      "outputs": [
        {
          "output_type": "execute_result",
          "data": {
            "text/plain": [
              "[<matplotlib.lines.Line2D at 0x7f9e1b9ce750>]"
            ]
          },
          "metadata": {
            "tags": []
          },
          "execution_count": 26
        },
        {
          "output_type": "display_data",
          "data": {
            "image/png": "[encoded data removed]",
            "text/plain": [
              "<Figure size 432x288 with 1 Axes>"
            ]
          },
          "metadata": {
            "tags": [],
            "needs_background": "light"
          }
        }
      ]
    },
    {
      "cell_type": "code",
      "metadata": {
        "id": "PpLAtLpQygb8"
      },
      "source": [
        ""
      ],
      "execution_count": null,
      "outputs": []
    }
  ]
}